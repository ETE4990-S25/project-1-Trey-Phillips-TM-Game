{
 "cells": [
  {
   "cell_type": "code",
   "execution_count": null,
   "metadata": {},
   "outputs": [],
   "source": [
    "# Encounter Flow\n",
    "# 2 Actions of any type per turn\n",
    "# 1. Check if in combat (follow flow chart for combat), 2. Move to next room, 3. Use Items, 4. Use Abilities, 5. End Turn\n",
    "# Each room chooses a random event upon 1st entrance, Each room does a unique thing as a static effect while inside the room\n",
    "# Can loot each room for items a random number of times rolled on 1st entrance\n",
    "# When moving, noise check to see if monster spawns, if spawned choose from random encounter bag and resolve\n",
    "# As many small items as you want, only two big items at a time (can be dropped/picked up if needed?)\n",
    "# Objective is to turn on all generators and set self destruct/rescue people (haven't decided yet)\n",
    "# Classes and Room identifiers/events in UML\n",
    "# Enemy types: 4 tiers of increasing difficulty? Or just 4 of 1 that have separate ways to kill\n",
    "# Need to come back and start by making character + character classes. Then rooms. Then encounters and events. \n",
    "# Win condition can be saved for when the idea is more solid. Inspiration will come as I decide how hard this will be to code"
   ]
  },
  {
   "cell_type": "code",
   "execution_count": null,
   "metadata": {},
   "outputs": [],
   "source": []
  }
 ],
 "metadata": {
  "language_info": {
   "name": "python"
  }
 },
 "nbformat": 4,
 "nbformat_minor": 2
}
